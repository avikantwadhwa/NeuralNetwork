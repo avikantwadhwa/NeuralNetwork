{
 "cells": [
  {
   "cell_type": "code",
   "execution_count": 3,
   "metadata": {},
   "outputs": [],
   "source": [
    "#importing library\n",
    "import numpy as np"
   ]
  },
  {
   "cell_type": "code",
   "execution_count": 2,
   "metadata": {},
   "outputs": [
    {
     "data": {
      "text/plain": [
       "((4, 2), (4, 1))"
      ]
     },
     "execution_count": 2,
     "metadata": {},
     "output_type": "execute_result"
    }
   ],
   "source": [
    "#simple 'AND' dataset\n",
    "X = np.array([[0,0], [0,1], [1,0], [1,1]])\n",
    "Y = np.array([[0,0,0,1]]).T\n",
    "X.shape, Y.shape"
   ]
  },
  {
   "cell_type": "code",
   "execution_count": 4,
   "metadata": {},
   "outputs": [],
   "source": [
    "def sig(z):\n",
    "    return 1/(1 + np.exp(-z))"
   ]
  },
  {
   "cell_type": "code",
   "execution_count": 6,
   "metadata": {},
   "outputs": [],
   "source": [
    "def derivativeSig(z):\n",
    "    return sig(z)*(1 - sig(z))"
   ]
  },
  {
   "cell_type": "code",
   "execution_count": 9,
   "metadata": {},
   "outputs": [],
   "source": [
    "# one hidden layer weights\n",
    "wh=2*np.random.random((2,2)) -1\n",
    "bh=2*np.random.random((1,2))-1\n",
    "wo= 2* np.random.random((2, 1)) - 1\n",
    "bo= 2 * np.random.random((1,1))- 1"
   ]
  },
  {
   "cell_type": "code",
   "execution_count": 10,
   "metadata": {},
   "outputs": [],
   "source": [
    "#learning rate(consatnt multiplied to changes for weights updation)\n",
    "lr = 0.1"
   ]
  },
  {
   "cell_type": "code",
   "execution_count": 11,
   "metadata": {},
   "outputs": [],
   "source": [
    "for i in range(1500):\n",
    "    #output of 1st layer is input\n",
    "    output0=X\n",
    "    \n",
    "    #input for a layer is weighted addition of output of previous layer\n",
    "    input_hidden=np.dot(output0,wh)+bh\n",
    "    #ouput is activation function applied to input(which is sigmoid here)\n",
    "    output_hidden=sig(input_hidden)\n",
    "    \n",
    "    #input for a layer is weighted addition of output of previous layer\n",
    "    input_for_output_layer=np.dot(output_hidden,wo)+bo\n",
    "    #ouput is activation function applied to input(which is sigmoid here)\n",
    "    output=sig(input_for_output_layer)\n",
    "\n",
    "    #first derivate term of output_layer of back propagation(see at maths section)\n",
    "    first_term_output_layer=output-Y\n",
    "    #second term of back propagation\n",
    "    second_term_output_layer=derivativeSig(input_for_output_layer)\n",
    "    #multiplication of two layers\n",
    "    first_two_output_layer=first_term_output_layer*second_term_output_layer\n",
    "    \n",
    "    #first derivate term of hidden_layer of back propagation(see at maths section)\n",
    "    first_term_hidden_layer=np.dot(first_two_output_layer,wo.T)\n",
    "    #second term of back propagation\n",
    "    second_term_hidden_layer=derivativeSig(input_hidden)\n",
    "    #multiplication of two layers\n",
    "    first_two_hidden_layer=first_term_hidden_layer*second_term_hidden_layer\n",
    "    \n",
    "    #changes at weights and bias for updation at respective layers\n",
    "    changes_output=np.dot(output_hidden.T,first_two_output_layer)\n",
    "    changes_output_bias=np.sum(first_two_output_layer,axis=0,keepdims=True)\n",
    "\n",
    "    changes_hidden=np.dot(output0.T,first_two_hidden_layer)\n",
    "    changes_hidden_bias=np.sum(first_two_hidden_layer,axis=0,keepdims=True)\n",
    "    \n",
    "    #change is calculated and weights and bias are updated to reduce error \n",
    "    wh=wh-changes_hidden*lr\n",
    "    bh=bh-changes_hidden_bias*lr\n",
    "\n",
    "    wo=wo-changes_output*lr\n",
    "    bo=bo-changes_output_bias*lr\n",
    "    #whole updation process is done for number of iterations to reduce error"
   ]
  },
  {
   "cell_type": "code",
   "execution_count": 13,
   "metadata": {},
   "outputs": [],
   "source": [
    "#output of neural network is calculated with the updated weights\n",
    "output_hidden=sig(np.dot(X,wh)+bh)\n",
    "output=sig(np.dot(output_hidden,wo)+bo)"
   ]
  },
  {
   "cell_type": "code",
   "execution_count": 14,
   "metadata": {},
   "outputs": [
    {
     "data": {
      "text/plain": [
       "array([[0.0482754 ],\n",
       "       [0.18701943],\n",
       "       [0.17722603],\n",
       "       [0.68980681]])"
      ]
     },
     "execution_count": 14,
     "metadata": {},
     "output_type": "execute_result"
    }
   ],
   "source": []
  }
 ],
 "metadata": {
  "kernelspec": {
   "display_name": "Python 3",
   "language": "python",
   "name": "python3"
  },
  "language_info": {
   "codemirror_mode": {
    "name": "ipython",
    "version": 3
   },
   "file_extension": ".py",
   "mimetype": "text/x-python",
   "name": "python",
   "nbconvert_exporter": "python",
   "pygments_lexer": "ipython3",
   "version": "3.6.5"
  }
 },
 "nbformat": 4,
 "nbformat_minor": 2
}
